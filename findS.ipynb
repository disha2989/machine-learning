{
 "cells": [
  {
   "cell_type": "code",
   "execution_count": 1,
   "id": "26df9dcb",
   "metadata": {},
   "outputs": [],
   "source": [
    "import random\n",
    "import csv"
   ]
  },
  {
   "cell_type": "code",
   "execution_count": 10,
   "id": "9096476e",
   "metadata": {},
   "outputs": [
    {
     "name": "stdout",
     "output_type": "stream",
     "text": [
      "\n",
      " Given training dataset is : \n",
      "\n",
      "['Sunny', 'Mild', 'High', 'Strong', 'Same', 'Yes']\n",
      "['Rainy', 'Hot', 'High', 'Normal', 'Same', 'No']\n",
      "['Sunny', 'Mild', 'Normal', 'Strong', 'Change', 'Yes']\n",
      "['Sunny', 'Hot', 'High', 'Strong', 'Change', 'Yes']\n",
      "['Sunny', 'Cool', 'Normal', 'Normal', 'Change', 'No']\n",
      "['Overcast', 'Cool', 'Normal', 'Normal', 'Same', 'No']\n",
      "['Rainy', 'Hot', 'Normal', 'Strong', 'Same', 'Yes']\n",
      "\n",
      "The total number of training instances are :  7\n",
      "\n",
      "The initial hypothesis is : \n",
      "['0', '0', '0', '0', '0']\n",
      "\n",
      "Instance  1 is ['Sunny', 'Mild', 'High', 'Strong', 'Same', 'Yes']  and is Positive Instance\n",
      "The hypothesis for the training instance 1  is:  ['Sunny', 'Mild', 'High', 'Strong', 'Same'] \n",
      "\n",
      "\n",
      "Instance  2 is ['Rainy', 'Hot', 'High', 'Normal', 'Same', 'No']  and is Negative Instance\n",
      "The hypothesis for the training instance 2  is:  ['Sunny', 'Mild', 'High', 'Strong', 'Same'] \n",
      "\n",
      "\n",
      "Instance  3 is ['Sunny', 'Mild', 'Normal', 'Strong', 'Change', 'Yes']  and is Positive Instance\n",
      "The hypothesis for the training instance 3  is:  ['Sunny', 'Mild', '?', 'Strong', '?'] \n",
      "\n",
      "\n",
      "Instance  4 is ['Sunny', 'Hot', 'High', 'Strong', 'Change', 'Yes']  and is Positive Instance\n",
      "The hypothesis for the training instance 4  is:  ['Sunny', '?', '?', 'Strong', '?'] \n",
      "\n",
      "\n",
      "Instance  5 is ['Sunny', 'Cool', 'Normal', 'Normal', 'Change', 'No']  and is Negative Instance\n",
      "The hypothesis for the training instance 5  is:  ['Sunny', '?', '?', 'Strong', '?'] \n",
      "\n",
      "\n",
      "Instance  6 is ['Overcast', 'Cool', 'Normal', 'Normal', 'Same', 'No']  and is Negative Instance\n",
      "The hypothesis for the training instance 6  is:  ['Sunny', '?', '?', 'Strong', '?'] \n",
      "\n",
      "\n",
      "Instance  7 is ['Rainy', 'Hot', 'Normal', 'Strong', 'Same', 'Yes']  and is Positive Instance\n",
      "The hypothesis for the training instance 7  is:  ['?', '?', '?', 'Strong', '?'] \n",
      "\n",
      "\n",
      " The Maximally Specific Hypothesis for a given Training Examples :\n",
      "\n",
      "['?', '?', '?', 'Strong', '?']\n"
     ]
    }
   ],
   "source": [
    "attributes = []\n",
    "\n",
    "print(\"\\n Given training dataset is : \\n\")\n",
    "\n",
    "with open('data.csv', 'r') as csvFile:\n",
    "    reader = csv.reader(csvFile)\n",
    "    for row in reader:\n",
    "        attributes.append (row)\n",
    "        print(row)\n",
    "        \n",
    "print(\"\\nThe total number of training instances are : \",len(attributes))\n",
    "\n",
    "noOfattr = len(attributes[0])-1\n",
    "\n",
    "print(\"\\nThe initial hypothesis is : \")\n",
    "init_hypothesis = ['0']*noOfattr\n",
    "print(init_hypothesis)\n",
    "\n",
    "for j in range(0,noOfattr):\n",
    "        init_hypothesis[j] = attributes[0][j]\n",
    "        \n",
    "for i in range(0, len(attributes)):\n",
    "    if attributes[i][noOfattr] == 'Yes':\n",
    "        print (\"\\nInstance \", i+1, \"is\", attributes[i], \" and is Positive Instance\")\n",
    "        for j in range(0,noOfattr):\n",
    "                if attributes[i][j]!=init_hypothesis[j]:\n",
    "                    init_hypothesis[j]='?'\n",
    "                else :\n",
    "                    init_hypothesis[j]= attributes[i][j] \n",
    "                    \n",
    "        print(\"The hypothesis for the training instance\", i+1, \" is: \" , init_hypothesis, \"\\n\")\n",
    "        \n",
    "     \n",
    "    if attributes[i][noOfattr] == 'No':\n",
    "        print (\"\\nInstance \", i+1, \"is\", attributes[i], \" and is Negative Instance\")\n",
    "        print(\"The hypothesis for the training instance\", i+1, \" is: \" , init_hypothesis, \"\\n\")\n",
    "        \n",
    "        \n",
    "\n",
    "print(\"\\n The Maximally Specific Hypothesis for a given Training Examples :\\n\")\n",
    "print(init_hypothesis)        \n",
    "        "
   ]
  },
  {
   "cell_type": "code",
   "execution_count": null,
   "id": "e0f2aab5",
   "metadata": {},
   "outputs": [],
   "source": []
  }
 ],
 "metadata": {
  "kernelspec": {
   "display_name": "Python 3 (ipykernel)",
   "language": "python",
   "name": "python3"
  },
  "language_info": {
   "codemirror_mode": {
    "name": "ipython",
    "version": 3
   },
   "file_extension": ".py",
   "mimetype": "text/x-python",
   "name": "python",
   "nbconvert_exporter": "python",
   "pygments_lexer": "ipython3",
   "version": "3.9.7"
  }
 },
 "nbformat": 4,
 "nbformat_minor": 5
}
